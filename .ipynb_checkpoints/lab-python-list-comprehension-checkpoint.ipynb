{
 "cells": [
  {
   "cell_type": "markdown",
   "id": "25d7736c-ba17-4aff-b6bb-66eba20fbf4e",
   "metadata": {},
   "source": [
    "# Lab | List, Dict and Set Comprehension"
   ]
  },
  {
   "cell_type": "markdown",
   "id": "7dd3cbde-675a-4b81-92c3-f728846dbe06",
   "metadata": {},
   "source": [
    "## Exercise: Managing Customer Orders Optimized with Comprehension"
   ]
  },
  {
   "cell_type": "markdown",
   "id": "5d500160-2fb7-4777-b5e4-09d45ebaf328",
   "metadata": {},
   "source": [
    "In the previous exercise, you developed a program to manage customer orders and inventory. Now, let's take it a step further and incorporate comprehension into your code.\n",
    "\n",
    "Follow the steps below to complete the exercise:\n",
    "\n",
    "1. Review your code from the previous exercise and identify areas where you can apply comprehension to simplify and streamline your code. \n",
    "\n",
    "    - *Hint: Apply it to initialize inventory, updating the inventory and printing the updated inventory.*\n",
    "    \n",
    "    - For example, in initializing the inventory, we could have:\n",
    "    \n",
    "        ```python\n",
    "        def initialize_inventory(products):\n",
    "            inventory = {product: int(input(f\"Enter the quantity of {product}s available: \")) for product in products}\n",
    "            return inventory\n",
    "\n",
    "        ```\n",
    "<br>\n",
    "    \n",
    "    \n",
    "2. Modify the function get_customer_orders so it prompts the user to enter the number of customer orders and gathers the product names using a loop and user input. Use comprehension.\n",
    "\n",
    "3. Add a new function to calculate the total price of the customer order. For each product in customer_orders, prompt the user to enter the price of that product. Use comprehension to calculate the total price. Note: assume that the user can only have 1 unit of each product.\n",
    "\n",
    "4. Modify the update_inventory function to remove the product from the inventory if its quantity becomes zero after fulfilling the customer orders. Use comprehension to filter out the products with a quantity of zero from the inventory.\n",
    "\n",
    "5. Print the total price of the customer order.\n",
    "\n",
    "Your code should produce output similar to the following:\n",
    "\n",
    "```python\n",
    "Enter the quantity of t-shirts available:  5\n",
    "Enter the quantity of mugs available:  4\n",
    "Enter the quantity of hats available:  3\n",
    "Enter the quantity of books available:  2\n",
    "Enter the quantity of keychains available:  1\n",
    "Enter the number of customer orders:  2\n",
    "Enter the name of a product that a customer wants to order:  hat\n",
    "Enter the name of a product that a customer wants to order:  keychain\n",
    "\n",
    "Order Statistics:\n",
    "Total Products Ordered: 2\n",
    "Percentage of Unique Products Ordered: 40.0\n",
    "\n",
    "Updated Inventory:\n",
    "t-shirt: 5\n",
    "mug: 4\n",
    "hat: 2\n",
    "book: 2\n",
    "Enter the price of keychain:  5\n",
    "Enter the price of hat:  10\n",
    "Total Price: 15.0\n",
    "\n",
    "```\n"
   ]
  },
  {
   "cell_type": "code",
   "execution_count": 1,
   "id": "0415e64f-6e0f-44c3-8e3c-2416e8c6aaa2",
   "metadata": {},
   "outputs": [],
   "source": [
    "#1. Review your code from the previous exercise and identify areas where you can apply comprehension to simplify and streamline your code.\n",
    "\n",
    "def initialize_inventory(products):\n",
    "    inventory = {product: int(input(f\"Enter the quantity of {product}s available: \")) for product in products}\n",
    "    return inventory"
   ]
  },
  {
   "cell_type": "code",
   "execution_count": 3,
   "id": "82a29ce4-4d92-4701-8278-232ddc9af8fe",
   "metadata": {},
   "outputs": [
    {
     "name": "stdin",
     "output_type": "stream",
     "text": [
      "Enter the quantity of t-shirts available:  10\n",
      "Enter the quantity of mugs available:  20\n",
      "Enter the quantity of hats available:  30\n",
      "Enter the quantity of books available:  40\n",
      "Enter the quantity of keychains available:  50\n"
     ]
    },
    {
     "name": "stdout",
     "output_type": "stream",
     "text": [
      "{'t-shirt': 10, 'mug': 20, 'hat': 30, 'book': 40, 'keychain': 50}\n"
     ]
    }
   ],
   "source": [
    "products = [\"t-shirt\", \"mug\", \"hat\", \"book\", \"keychain\"]\n",
    "\n",
    "inventory = initialize_inventory(products)\n",
    "\n",
    "print(inventory)"
   ]
  },
  {
   "cell_type": "code",
   "execution_count": 19,
   "id": "b80619e8-d463-482c-bdde-1d88a8556fe3",
   "metadata": {},
   "outputs": [],
   "source": [
    "def get_customer_orders(products):\n",
    "    customer_orders = {\n",
    "        product for product in products\n",
    "        if input(f\"Do you want to order this product '{product}'? (y/n): \").lower().strip() == 'y'\n",
    "    }\n",
    "    return customer_orders"
   ]
  },
  {
   "cell_type": "code",
   "execution_count": 21,
   "id": "49ee6219-7e5c-4076-95e3-187eb80942c3",
   "metadata": {},
   "outputs": [
    {
     "name": "stdin",
     "output_type": "stream",
     "text": [
      "Do you want to order this product 't-shirt'? (y/n):  y\n",
      "Do you want to order this product 'mug'? (y/n):  y\n",
      "Do you want to order this product 'hat'? (y/n):  n\n",
      "Do you want to order this product 'book'? (y/n):  n\n",
      "Do you want to order this product 'keychain'? (y/n):  y\n"
     ]
    },
    {
     "name": "stdout",
     "output_type": "stream",
     "text": [
      "{'keychain', 't-shirt', 'mug'}\n"
     ]
    }
   ],
   "source": [
    "customer_orders = get_customer_orders(products)\n",
    "\n",
    "print(customer_orders)"
   ]
  },
  {
   "cell_type": "code",
   "execution_count": 35,
   "id": "24986b1f-1551-45ee-90bb-e2eecd7ba806",
   "metadata": {},
   "outputs": [],
   "source": [
    "def update_inventory(customer_orders, inventory):\n",
    "    new_inventory = {key : (value-1 if key in customer_orders else value) for key, value in inventory.items()}\n",
    "    return new_inventory"
   ]
  },
  {
   "cell_type": "code",
   "execution_count": 37,
   "id": "fb4bfa5f-7575-43f2-8d7e-18b8205b9f56",
   "metadata": {},
   "outputs": [
    {
     "data": {
      "text/plain": [
       "{'t-shirt': 9, 'mug': 19, 'hat': 30, 'book': 40, 'keychain': 49}"
      ]
     },
     "execution_count": 37,
     "metadata": {},
     "output_type": "execute_result"
    }
   ],
   "source": [
    "new_inventory = update_inventory(customer_orders, inventory)\n",
    "\n",
    "new_inventory"
   ]
  },
  {
   "cell_type": "code",
   "execution_count": 41,
   "id": "0556cb4b-d757-449c-88a0-f7600e0de3e1",
   "metadata": {},
   "outputs": [
    {
     "name": "stdout",
     "output_type": "stream",
     "text": [
      "Total unique products ordered: 3\n",
      "Percentage of product range ordered: 60.0%\n"
     ]
    }
   ],
   "source": [
    "def calculate_order_statistics(customer_orders, products):     \n",
    "    num_ordered = len(customer_orders)\n",
    "    pct_ordered = 100 * len(customer_orders) / len(products) \n",
    "    order_statistics = num_ordered, pct_ordered\n",
    "    return order_statistics\n",
    "\n",
    "order_statistics = calculate_order_statistics(customer_orders, products)\n",
    "num_ordered, pct_ordered = order_statistics\n",
    "\n",
    "def print_order_statistics(order_statistics):\n",
    "    print(\"Total unique products ordered: \" + str(num_ordered))\n",
    "    print(\"Percentage of product range ordered: \" + str(pct_ordered) + \"%\")\n",
    "\n",
    "print_order_statistics(order_statistics)"
   ]
  },
  {
   "cell_type": "code",
   "execution_count": null,
   "id": "415b44dd-6f4e-4748-9769-68cc248e30c7",
   "metadata": {},
   "outputs": [],
   "source": [
    "def print_updated_inventory(inventory):\n",
    "    print(inventory)\n",
    "\n",
    "print_updated_inventory(inventory)\n"
   ]
  },
  {
   "cell_type": "code",
   "execution_count": 49,
   "id": "8f81af31-dca1-41d9-a1ea-9e7b26c424fa",
   "metadata": {},
   "outputs": [
    {
     "name": "stdin",
     "output_type": "stream",
     "text": [
      "Enter the quantity of t-shirts available:  10\n",
      "Enter the quantity of mugs available:  20\n",
      "Enter the quantity of hats available:  30\n",
      "Enter the quantity of books available:  40\n",
      "Enter the quantity of keychains available:  50\n",
      "Do you want to order this product 't-shirt'? (y/n):  n\n",
      "Do you want to order this product 'mug'? (y/n):  y\n",
      "Do you want to order this product 'hat'? (y/n):  y\n",
      "Do you want to order this product 'book'? (y/n):  n\n",
      "Do you want to order this product 'keychain'? (y/n):  y\n"
     ]
    },
    {
     "name": "stdout",
     "output_type": "stream",
     "text": [
      "Total unique products ordered: 3\n",
      "Percentage of product range ordered: 60.0%\n",
      "{'t-shirt': 10, 'mug': 19, 'hat': 29, 'book': 40, 'keychain': 49}\n"
     ]
    }
   ],
   "source": [
    "products = [\"t-shirt\", \"mug\", \"hat\", \"book\", \"keychain\"]\n",
    "inventory = initialize_inventory(products)\n",
    "customer_orders = get_customer_orders(products)\n",
    "new_inventory = update_inventory(customer_orders, inventory)\n",
    "order_statistics = calculate_order_statistics(customer_orders, products)\n",
    "num_ordered, pct_ordered = order_statistics\n",
    "print_order_statistics(order_statistics)\n",
    "\n",
    "print(new_inventory)"
   ]
  },
  {
   "cell_type": "code",
   "execution_count": 93,
   "id": "1b80e307-722d-4a8a-b8b8-a17aaf147387",
   "metadata": {},
   "outputs": [
    {
     "name": "stdin",
     "output_type": "stream",
     "text": [
      "How many t-shirts do you want to order:  10\n",
      "How many mugs do you want to order:  2\n",
      "How many hats do you want to order:  0\n",
      "How many books do you want to order:  5\n",
      "How many keychains do you want to order:  3\n"
     ]
    },
    {
     "name": "stdout",
     "output_type": "stream",
     "text": [
      "{'t-shirt': 10, 'mug': 2, 'hat': 0, 'book': 5, 'keychain': 3}\n"
     ]
    }
   ],
   "source": [
    "#2. Modify the function get_customer_orders so it prompts the user to enter the number of customer orders \n",
    "#and gathers the product names using a loop and user input. Use comprehension.\n",
    "products = [\"t-shirt\", \"mug\", \"hat\", \"book\", \"keychain\"]\n",
    "\n",
    "\n",
    "def get_customer_orders(products):\n",
    "    customer_orders = {product : int(input(f\"How many {product}s do you want to order: \").strip()) for product in products}\n",
    "    return customer_orders\n",
    "\n",
    "customer_orders = get_customer_orders(products)\n",
    "\n",
    "print(customer_orders)"
   ]
  },
  {
   "cell_type": "code",
   "execution_count": 95,
   "id": "0b9774bc-7a17-4b16-bf61-672521c0f33a",
   "metadata": {},
   "outputs": [
    {
     "name": "stdin",
     "output_type": "stream",
     "text": [
      "What is the price of a t-shirt?  10\n",
      "What is the price of a mug?  5\n",
      "What is the price of a hat?  4\n",
      "What is the price of a book?  12.50\n",
      "What is the price of a keychain?  2.30\n"
     ]
    },
    {
     "name": "stdout",
     "output_type": "stream",
     "text": [
      "{'t-shirt': 10.0, 'mug': 5.0, 'hat': 4.0, 'book': 12.5, 'keychain': 2.3}\n"
     ]
    }
   ],
   "source": [
    "#3. Add a new function to calculate the total price of the customer order.\n",
    "#For each product in customer_orders, prompt the user to enter the price of that product.\n",
    "#Use comprehension to calculate the total price. Note: assume that the user can only have 1 unit of each product.\n",
    "\n",
    "def product_price(products):\n",
    "    price_list = {product : float(input(f\"What is the price of a {product}? \")) for product in products}\n",
    "    return price_list\n",
    "\n",
    "price_list = product_price(products)\n",
    "\n",
    "print(price_list)"
   ]
  },
  {
   "cell_type": "code",
   "execution_count": 97,
   "id": "8468f1ac-1d24-4501-9e1a-4e269e4cb299",
   "metadata": {},
   "outputs": [
    {
     "name": "stdout",
     "output_type": "stream",
     "text": [
      "179.4\n"
     ]
    }
   ],
   "source": [
    "def customer_order_total_price(customer_orders, price_list):\n",
    "    price_per_item = {item : price_list[item] * orders for item, orders in customer_orders.items()}\n",
    "    total_spend = sum(price_per_item.values())\n",
    "    return total_spend\n",
    "\n",
    "total_spend = customer_order_total_price(customer_orders, price_list)\n",
    "\n",
    "print(total_spend)"
   ]
  },
  {
   "cell_type": "code",
   "execution_count": 105,
   "id": "6e48132a-2e7d-4647-833b-0ae0e65f0451",
   "metadata": {},
   "outputs": [],
   "source": [
    "#4. Modify the update_inventory function to remove the product from the inventory if its \n",
    "#quantity becomes zero after fulfilling the customer orders.\n",
    "#Use comprehension to filter out the products with a quantity of zero from the inventory.\n",
    "\n",
    "def update_inventory(customer_orders, inventory):\n",
    "    new_inventory = {key : (value - customer_orders[key]) if key in customer_orders.keys() else value for key, value in inventory.items() if (value - customer_orders[key]) > 0}\n",
    "    return new_inventory\n",
    "\n"
   ]
  },
  {
   "cell_type": "code",
   "execution_count": 107,
   "id": "de8eb876-d5f4-4344-9b6d-ada33d2c2221",
   "metadata": {},
   "outputs": [
    {
     "name": "stdout",
     "output_type": "stream",
     "text": [
      "{'t-shirt': 10, 'mug': 20, 'hat': 30, 'book': 40, 'keychain': 50}\n",
      "{'t-shirt': 10, 'mug': 2, 'hat': 0, 'book': 5, 'keychain': 3}\n"
     ]
    }
   ],
   "source": [
    "print(inventory)\n",
    "print(customer_orders)"
   ]
  },
  {
   "cell_type": "code",
   "execution_count": 109,
   "id": "d205e3eb-6712-4dc3-a05b-302196d7c80e",
   "metadata": {},
   "outputs": [
    {
     "name": "stdout",
     "output_type": "stream",
     "text": [
      "{'mug': 18, 'hat': 30, 'book': 35, 'keychain': 47}\n"
     ]
    }
   ],
   "source": [
    "new_inventory = update_inventory(customer_orders, inventory)\n",
    "\n",
    "print(new_inventory)"
   ]
  },
  {
   "cell_type": "code",
   "execution_count": 111,
   "id": "9680e381-be1c-47ce-b035-ae36c968e7ee",
   "metadata": {},
   "outputs": [
    {
     "name": "stdout",
     "output_type": "stream",
     "text": [
      "179.4\n"
     ]
    }
   ],
   "source": [
    "#5. Print the total price of the customer order.\n",
    "\n",
    "total_spend = customer_order_total_price(customer_orders, price_list)\n",
    "\n",
    "print(total_spend)"
   ]
  },
  {
   "cell_type": "code",
   "execution_count": null,
   "id": "8003263a-898d-4a31-a6db-219ec6f889d8",
   "metadata": {},
   "outputs": [],
   "source": []
  }
 ],
 "metadata": {
  "kernelspec": {
   "display_name": "Python 3 (ipykernel)",
   "language": "python",
   "name": "python3"
  },
  "language_info": {
   "codemirror_mode": {
    "name": "ipython",
    "version": 3
   },
   "file_extension": ".py",
   "mimetype": "text/x-python",
   "name": "python",
   "nbconvert_exporter": "python",
   "pygments_lexer": "ipython3",
   "version": "3.12.4"
  }
 },
 "nbformat": 4,
 "nbformat_minor": 5
}
